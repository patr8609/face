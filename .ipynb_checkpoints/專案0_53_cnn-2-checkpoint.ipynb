{
 "cells": [
  {
   "cell_type": "markdown",
   "metadata": {
    "colab_type": "text",
    "id": "y0bDkfDTQ4je"
   },
   "source": [
    "## CNN模型架構"
   ]
  },
  {
   "cell_type": "markdown",
   "metadata": {
    "colab_type": "text",
    "id": "X27vLr68tWYP"
   },
   "source": [
    "### 一、讀入架構與資料"
   ]
  },
  {
   "cell_type": "code",
   "execution_count": 2,
   "metadata": {
    "colab": {},
    "colab_type": "code",
    "id": "XH8K5P3Wo6BY"
   },
   "outputs": [
    {
     "name": "stderr",
     "output_type": "stream",
     "text": [
      "Using TensorFlow backend.\n"
     ]
    }
   ],
   "source": [
    "%matplotlib inline\n",
    "import matplotlib.pyplot as plt\n",
    "import numpy as np\n",
    "import pandas as pd\n",
    "import warnings\n",
    "from keras.utils import to_categorical\n",
    "from sklearn.model_selection import train_test_split\n",
    "from keras.models import Sequential #Initialise our neural network model as a sequential network\n",
    "from keras.layers import Conv2D #Convolution operation\n",
    "from keras.layers.normalization import BatchNormalization\n",
    "from keras.regularizers import l2\n",
    "from keras.layers import Activation#Applies activation function\n",
    "from keras.layers import Dropout#Prevents overfitting by randomly converting few outputs to zero\n",
    "from keras.layers import MaxPooling2D # Maxpooling function\n",
    "from keras.layers import Flatten # Converting 2D arrays into a 1D linear vector\n",
    "from keras.layers import Dense # Regular fully connected neural network\n",
    "from keras import optimizers\n",
    "from keras.callbacks import ReduceLROnPlateau, EarlyStopping, TensorBoard, ModelCheckpoint\n",
    "from sklearn.metrics import accuracy_score\n",
    "from keras.preprocessing.image import ImageDataGenerator\n",
    "from keras.callbacks import ReduceLROnPlateau\n",
    "import sys, os\n",
    "from keras.losses import categorical_crossentropy\n",
    "from keras.optimizers import Adam\n",
    "from keras.regularizers import l2\n",
    "from keras.models import load_model\n",
    "from keras.models import model_from_json"
   ]
  },
  {
   "cell_type": "code",
   "execution_count": 0,
   "metadata": {
    "colab": {
     "base_uri": "https://localhost:8080/",
     "height": 189
    },
    "colab_type": "code",
    "id": "cBhgdcELpEas",
    "outputId": "2c587d25-d9af-4b22-e976-dbe80bc15b1c"
   },
   "outputs": [
    {
     "name": "stdout",
     "output_type": "stream",
     "text": [
      "Go to this URL in a browser: https://accounts.google.com/o/oauth2/auth?client_id=947318989803-6bn6qk8qdgf4n4g3pfee6491hc0brc4i.apps.googleusercontent.com&redirect_uri=urn%3aietf%3awg%3aoauth%3a2.0%3aoob&response_type=code&scope=email%20https%3a%2f%2fwww.googleapis.com%2fauth%2fdocs.test%20https%3a%2f%2fwww.googleapis.com%2fauth%2fdrive%20https%3a%2f%2fwww.googleapis.com%2fauth%2fdrive.photos.readonly%20https%3a%2f%2fwww.googleapis.com%2fauth%2fpeopleapi.readonly\n",
      "\n",
      "Enter your authorization code:\n",
      "··········\n",
      "Mounted at /content/drive\n"
     ]
    }
   ],
   "source": [
    "from google.colab import drive\n",
    "drive.mount('/content/drive')"
   ]
  },
  {
   "cell_type": "code",
   "execution_count": 3,
   "metadata": {
    "colab": {},
    "colab_type": "code",
    "id": "S5LDW6_p5f_Y"
   },
   "outputs": [],
   "source": [
    "data = pd.read_csv(\"/content/drive/My Drive/fer2013.csv\")"
   ]
  },
  {
   "cell_type": "code",
   "execution_count": 4,
   "metadata": {
    "colab": {
     "base_uri": "https://localhost:8080/",
     "height": 204
    },
    "colab_type": "code",
    "id": "pCir0gMP0qO5",
    "outputId": "b40f6854-2eeb-40f3-ef70-a4af386254ff"
   },
   "outputs": [
    {
     "data": {
      "text/html": [
       "<div>\n",
       "<style scoped>\n",
       "    .dataframe tbody tr th:only-of-type {\n",
       "        vertical-align: middle;\n",
       "    }\n",
       "\n",
       "    .dataframe tbody tr th {\n",
       "        vertical-align: top;\n",
       "    }\n",
       "\n",
       "    .dataframe thead th {\n",
       "        text-align: right;\n",
       "    }\n",
       "</style>\n",
       "<table border=\"1\" class=\"dataframe\">\n",
       "  <thead>\n",
       "    <tr style=\"text-align: right;\">\n",
       "      <th></th>\n",
       "      <th>emotion</th>\n",
       "      <th>pixels</th>\n",
       "      <th>Usage</th>\n",
       "    </tr>\n",
       "  </thead>\n",
       "  <tbody>\n",
       "    <tr>\n",
       "      <th>0</th>\n",
       "      <td>0</td>\n",
       "      <td>70 80 82 72 58 58 60 63 54 58 60 48 89 115 121...</td>\n",
       "      <td>Training</td>\n",
       "    </tr>\n",
       "    <tr>\n",
       "      <th>1</th>\n",
       "      <td>0</td>\n",
       "      <td>151 150 147 155 148 133 111 140 170 174 182 15...</td>\n",
       "      <td>Training</td>\n",
       "    </tr>\n",
       "    <tr>\n",
       "      <th>2</th>\n",
       "      <td>2</td>\n",
       "      <td>231 212 156 164 174 138 161 173 182 200 106 38...</td>\n",
       "      <td>Training</td>\n",
       "    </tr>\n",
       "    <tr>\n",
       "      <th>3</th>\n",
       "      <td>4</td>\n",
       "      <td>24 32 36 30 32 23 19 20 30 41 21 22 32 34 21 1...</td>\n",
       "      <td>Training</td>\n",
       "    </tr>\n",
       "    <tr>\n",
       "      <th>4</th>\n",
       "      <td>6</td>\n",
       "      <td>4 0 0 0 0 0 0 0 0 0 0 0 3 15 23 28 48 50 58 84...</td>\n",
       "      <td>Training</td>\n",
       "    </tr>\n",
       "  </tbody>\n",
       "</table>\n",
       "</div>"
      ],
      "text/plain": [
       "   emotion                                             pixels     Usage\n",
       "0        0  70 80 82 72 58 58 60 63 54 58 60 48 89 115 121...  Training\n",
       "1        0  151 150 147 155 148 133 111 140 170 174 182 15...  Training\n",
       "2        2  231 212 156 164 174 138 161 173 182 200 106 38...  Training\n",
       "3        4  24 32 36 30 32 23 19 20 30 41 21 22 32 34 21 1...  Training\n",
       "4        6  4 0 0 0 0 0 0 0 0 0 0 0 3 15 23 28 48 50 58 84...  Training"
      ]
     },
     "execution_count": 4,
     "metadata": {},
     "output_type": "execute_result"
    }
   ],
   "source": [
    "data.head()"
   ]
  },
  {
   "cell_type": "markdown",
   "metadata": {
    "colab_type": "text",
    "id": "G5R68n_-Wc2x"
   },
   "source": [
    "觀察各類情緒資料數量，「開心」情緒的資料最多"
   ]
  },
  {
   "cell_type": "code",
   "execution_count": 7,
   "metadata": {
    "colab": {
     "base_uri": "https://localhost:8080/",
     "height": 136
    },
    "colab_type": "code",
    "id": "5ql5aAJhexa8",
    "outputId": "378c131a-3377-487d-e774-427bdd860eca"
   },
   "outputs": [
    {
     "name": "stdout",
     "output_type": "stream",
     "text": [
      "Angry 4953\n",
      "Disgust 547\n",
      "Fear 5121\n",
      "Happy 8989\n",
      "Sad 6077\n",
      "Surprsie 4002\n",
      "Neutral 6198\n"
     ]
    }
   ],
   "source": [
    "classes = ['Angry', 'Disgust', 'Fear', 'Happy', 'Sad', 'Surprsie', 'Neutral']\n",
    "for i in range(0,7,1):\n",
    "    \n",
    "    print(classes[i],len(data[data[\"emotion\"]==i]))"
   ]
  },
  {
   "cell_type": "markdown",
   "metadata": {
    "colab_type": "text",
    "id": "8_w87WO65qaI"
   },
   "source": [
    "### 二、資料預先處理\n",
    "分類資料較少的屬性及不明顯差異如disgust/surprised/neutral去除"
   ]
  },
  {
   "cell_type": "code",
   "execution_count": 0,
   "metadata": {
    "colab": {},
    "colab_type": "code",
    "id": "CsEODpNHo6DI"
   },
   "outputs": [],
   "source": [
    "data=data[~data['emotion'].isin([1])]\n",
    "data=data[~data['emotion'].isin([5])]\n",
    "data=data[~data['emotion'].isin([6])]"
   ]
  },
  {
   "cell_type": "markdown",
   "metadata": {
    "colab_type": "text",
    "id": "1A1XpVGm5ufU"
   },
   "source": [
    "將資料的維度進行調整，以能夠作為CNN的輸入"
   ]
  },
  {
   "cell_type": "code",
   "execution_count": 9,
   "metadata": {
    "colab": {
     "base_uri": "https://localhost:8080/",
     "height": 102
    },
    "colab_type": "code",
    "id": "bdOCD0Zf6sai",
    "outputId": "c532d146-ade3-491f-9dc7-1ad22dacbd5d"
   },
   "outputs": [
    {
     "name": "stdout",
     "output_type": "stream",
     "text": [
      "Preprocessing Done\n",
      "Number of Features: 48\n",
      "Number of Labels: 4\n",
      "Number of examples in dataset:25140\n",
      "X,y stored in fdataX.npy and flabels.npy respectively\n"
     ]
    }
   ],
   "source": [
    "width, height = 48, 48\n",
    "\n",
    "datapoints = data['pixels'].tolist()\n",
    "\n",
    "#getting features for training\n",
    "X = []\n",
    "for xseq in datapoints:\n",
    "    xx = [int(xp) for xp in xseq.split(' ')]\n",
    "    xx = np.asarray(xx).reshape(width, height)\n",
    "    X.append(xx.astype('float32'))\n",
    "\n",
    "X = np.asarray(X)\n",
    "X = np.expand_dims(X, -1)\n",
    "\n",
    "#getting labels for training\n",
    "y = pd.get_dummies(data['emotion']).values\n",
    "\n",
    "print(\"Preprocessing Done\")\n",
    "print(\"Number of Features: \"+str(len(X[0])))\n",
    "print(\"Number of Labels: \"+ str(len(y[0])))\n",
    "print(\"Number of examples in dataset:\"+str(len(X)))\n",
    "print(\"X,y stored in fdataX.npy and flabels.npy respectively\")"
   ]
  },
  {
   "cell_type": "markdown",
   "metadata": {
    "colab_type": "text",
    "id": "Q4RGvxXr513V"
   },
   "source": [
    "正規化並且分成train跟test data set"
   ]
  },
  {
   "cell_type": "code",
   "execution_count": 0,
   "metadata": {
    "colab": {},
    "colab_type": "code",
    "id": "Y8BywQqR7tjC"
   },
   "outputs": [],
   "source": [
    "\n",
    "num_features = 48\n",
    "num_labels = 4\n",
    "batch_size = 64\n",
    "\n",
    "X -= np.mean(X, axis=0)\n",
    "X /= np.std(X, axis=0)\n",
    "\n",
    "#for xx in range(10):\n",
    "#    plt.figure(xx)\n",
    "#    plt.imshow(x[xx].reshape((48, 48)), interpolation='none', cmap='gray')\n",
    "#plt.show()\n",
    "\n",
    "#splitting into training, validation and testing data\n",
    "X_train, X_test, y_train, y_test = train_test_split(X, y, test_size=0.1, random_state=42)\n",
    "X_train, X_valid, y_train, y_valid = train_test_split(X_train, y_train, test_size=0.1, random_state=41)"
   ]
  },
  {
   "cell_type": "markdown",
   "metadata": {
    "colab_type": "text",
    "id": "K5NM6kTY8x9E"
   },
   "source": [
    "### 三、建立ＣＮＮ模型\n",
    "模型中間放了四個全連接層並加入dropout，使用relu激活函數"
   ]
  },
  {
   "cell_type": "code",
   "execution_count": 11,
   "metadata": {
    "colab": {
     "base_uri": "https://localhost:8080/",
     "height": 935
    },
    "colab_type": "code",
    "id": "X-X50gbhgxIt",
    "outputId": "6a6b9f62-92c3-436a-ab4a-682ddebad652"
   },
   "outputs": [
    {
     "name": "stdout",
     "output_type": "stream",
     "text": [
      "Model: \"sequential_1\"\n",
      "_________________________________________________________________\n",
      "Layer (type)                 Output Shape              Param #   \n",
      "=================================================================\n",
      "conv2d_1 (Conv2D)            (None, 46, 46, 64)        640       \n",
      "_________________________________________________________________\n",
      "conv2d_2 (Conv2D)            (None, 46, 46, 64)        36928     \n",
      "_________________________________________________________________\n",
      "batch_normalization_1 (Batch (None, 46, 46, 64)        256       \n",
      "_________________________________________________________________\n",
      "max_pooling2d_1 (MaxPooling2 (None, 23, 23, 64)        0         \n",
      "_________________________________________________________________\n",
      "dropout_1 (Dropout)          (None, 23, 23, 64)        0         \n",
      "_________________________________________________________________\n",
      "conv2d_3 (Conv2D)            (None, 23, 23, 128)       73856     \n",
      "_________________________________________________________________\n",
      "batch_normalization_2 (Batch (None, 23, 23, 128)       512       \n",
      "_________________________________________________________________\n",
      "max_pooling2d_2 (MaxPooling2 (None, 11, 11, 128)       0         \n",
      "_________________________________________________________________\n",
      "dropout_2 (Dropout)          (None, 11, 11, 128)       0         \n",
      "_________________________________________________________________\n",
      "conv2d_4 (Conv2D)            (None, 11, 11, 256)       295168    \n",
      "_________________________________________________________________\n",
      "batch_normalization_3 (Batch (None, 11, 11, 256)       1024      \n",
      "_________________________________________________________________\n",
      "max_pooling2d_3 (MaxPooling2 (None, 5, 5, 256)         0         \n",
      "_________________________________________________________________\n",
      "dropout_3 (Dropout)          (None, 5, 5, 256)         0         \n",
      "_________________________________________________________________\n",
      "conv2d_5 (Conv2D)            (None, 5, 5, 256)         590080    \n",
      "_________________________________________________________________\n",
      "batch_normalization_4 (Batch (None, 5, 5, 256)         1024      \n",
      "_________________________________________________________________\n",
      "max_pooling2d_4 (MaxPooling2 (None, 2, 2, 256)         0         \n",
      "_________________________________________________________________\n",
      "dropout_4 (Dropout)          (None, 2, 2, 256)         0         \n",
      "_________________________________________________________________\n",
      "flatten_1 (Flatten)          (None, 1024)              0         \n",
      "_________________________________________________________________\n",
      "dense_1 (Dense)              (None, 512)               524800    \n",
      "_________________________________________________________________\n",
      "dropout_5 (Dropout)          (None, 512)               0         \n",
      "_________________________________________________________________\n",
      "dense_2 (Dense)              (None, 256)               131328    \n",
      "_________________________________________________________________\n",
      "dropout_6 (Dropout)          (None, 256)               0         \n",
      "_________________________________________________________________\n",
      "dense_3 (Dense)              (None, 4)                 1028      \n",
      "=================================================================\n",
      "Total params: 1,656,644\n",
      "Trainable params: 1,655,236\n",
      "Non-trainable params: 1,408\n",
      "_________________________________________________________________\n"
     ]
    }
   ],
   "source": [
    "model_2 = Sequential()\n",
    "\n",
    "model_2.add(Conv2D(64, kernel_size=(3, 3), activation='relu', input_shape=(48,48, 1), data_format='channels_last', kernel_regularizer=l2(0.01)))\n",
    "model_2.add(Conv2D(64, kernel_size=(3, 3), activation='relu', padding='same'))\n",
    "model_2.add(BatchNormalization())\n",
    "model_2.add(MaxPooling2D(pool_size=(2, 2), strides=(2, 2)))\n",
    "model_2.add(Dropout(0.4))\n",
    "\n",
    "model_2.add(Conv2D(128, kernel_size=(3, 3), activation='relu', padding='same'))\n",
    "model_2.add(BatchNormalization())\n",
    "model_2.add(MaxPooling2D(pool_size=(2, 2), strides=(2, 2)))\n",
    "model_2.add(Dropout(0.4))\n",
    "\n",
    "\n",
    "model_2.add(Conv2D(256, kernel_size=(3, 3), activation='relu', padding='same'))\n",
    "model_2.add(BatchNormalization())\n",
    "model_2.add(MaxPooling2D(pool_size=(2, 2), strides=(2, 2)))\n",
    "model_2.add(Dropout(0.4))\n",
    "\n",
    "\n",
    "model_2.add(Conv2D(256, kernel_size=(3, 3), activation='relu', padding='same'))\n",
    "model_2.add(BatchNormalization())\n",
    "model_2.add(MaxPooling2D(pool_size=(2, 2), strides=(2, 2)))\n",
    "model_2.add(Dropout(0.4))\n",
    "\n",
    "\n",
    "model_2.add(Flatten())\n",
    "\n",
    "model_2.add(Dense(512, activation='relu'))\n",
    "model_2.add(Dropout(0.4))\n",
    "model_2.add(Dense(256, activation='relu'))\n",
    "model_2.add(Dropout(0.4))\n",
    "\n",
    "\n",
    "model_2.add(Dense(num_labels, activation='softmax'))\n",
    "\n",
    "model_2.summary()"
   ]
  },
  {
   "cell_type": "markdown",
   "metadata": {
    "colab_type": "text",
    "id": "3DLbrU2MJRRh"
   },
   "source": [
    "開始訓練模型，訓練過程learning rate使用0.001，loss funtion採用crossentropy，模型一共訓練四十次來觀察準確率"
   ]
  },
  {
   "cell_type": "code",
   "execution_count": 12,
   "metadata": {
    "colab": {
     "base_uri": "https://localhost:8080/",
     "height": 1000
    },
    "colab_type": "code",
    "id": "hH9tNp7biB9P",
    "outputId": "f30c1d5f-960b-4e23-af49-abb33f654758"
   },
   "outputs": [
    {
     "name": "stdout",
     "output_type": "stream",
     "text": [
      "Train on 20363 samples, validate on 2263 samples\n",
      "Epoch 1/40\n",
      "20363/20363 [==============================] - 29s 1ms/step - loss: 1.5480 - accuracy: 0.3197 - val_loss: 2.1351 - val_accuracy: 0.3619\n",
      "Epoch 2/40\n",
      "20363/20363 [==============================] - 25s 1ms/step - loss: 1.3706 - accuracy: 0.3544 - val_loss: 1.6147 - val_accuracy: 0.3619\n",
      "Epoch 3/40\n",
      "20363/20363 [==============================] - 26s 1ms/step - loss: 1.3454 - accuracy: 0.3721 - val_loss: 1.8393 - val_accuracy: 0.3650\n",
      "Epoch 4/40\n",
      "20363/20363 [==============================] - 26s 1ms/step - loss: 1.2982 - accuracy: 0.4065 - val_loss: 1.8495 - val_accuracy: 0.3743\n",
      "Epoch 5/40\n",
      "20363/20363 [==============================] - 26s 1ms/step - loss: 1.2089 - accuracy: 0.4562 - val_loss: 1.0983 - val_accuracy: 0.5108\n",
      "Epoch 6/40\n",
      "20363/20363 [==============================] - 25s 1ms/step - loss: 1.1238 - accuracy: 0.4984 - val_loss: 1.0296 - val_accuracy: 0.5440\n",
      "Epoch 7/40\n",
      "20363/20363 [==============================] - 25s 1ms/step - loss: 1.0718 - accuracy: 0.5247 - val_loss: 0.9823 - val_accuracy: 0.5532\n",
      "Epoch 8/40\n",
      "20363/20363 [==============================] - 25s 1ms/step - loss: 1.0304 - accuracy: 0.5460 - val_loss: 0.9686 - val_accuracy: 0.5806\n",
      "Epoch 9/40\n",
      "20363/20363 [==============================] - 25s 1ms/step - loss: 0.9945 - accuracy: 0.5662 - val_loss: 0.9202 - val_accuracy: 0.6089\n",
      "Epoch 10/40\n",
      "20363/20363 [==============================] - 26s 1ms/step - loss: 0.9663 - accuracy: 0.5871 - val_loss: 0.9114 - val_accuracy: 0.6226\n",
      "Epoch 11/40\n",
      "20363/20363 [==============================] - 26s 1ms/step - loss: 0.9335 - accuracy: 0.6002 - val_loss: 0.9543 - val_accuracy: 0.5983\n",
      "Epoch 12/40\n",
      "20363/20363 [==============================] - 26s 1ms/step - loss: 0.9101 - accuracy: 0.6149 - val_loss: 0.8638 - val_accuracy: 0.6407\n",
      "Epoch 13/40\n",
      "20363/20363 [==============================] - 26s 1ms/step - loss: 0.8930 - accuracy: 0.6234 - val_loss: 0.8361 - val_accuracy: 0.6575\n",
      "Epoch 14/40\n",
      "20363/20363 [==============================] - 25s 1ms/step - loss: 0.8725 - accuracy: 0.6313 - val_loss: 0.8441 - val_accuracy: 0.6487\n",
      "Epoch 15/40\n",
      "20363/20363 [==============================] - 26s 1ms/step - loss: 0.8570 - accuracy: 0.6405 - val_loss: 0.8255 - val_accuracy: 0.6593\n",
      "Epoch 16/40\n",
      "20363/20363 [==============================] - 25s 1ms/step - loss: 0.8399 - accuracy: 0.6496 - val_loss: 0.8056 - val_accuracy: 0.6637\n",
      "Epoch 17/40\n",
      "20363/20363 [==============================] - 25s 1ms/step - loss: 0.8203 - accuracy: 0.6578 - val_loss: 0.7838 - val_accuracy: 0.6805\n",
      "Epoch 18/40\n",
      "20363/20363 [==============================] - 25s 1ms/step - loss: 0.8070 - accuracy: 0.6678 - val_loss: 0.7793 - val_accuracy: 0.6818\n",
      "Epoch 19/40\n",
      "20363/20363 [==============================] - 25s 1ms/step - loss: 0.7882 - accuracy: 0.6733 - val_loss: 0.7927 - val_accuracy: 0.6655\n",
      "Epoch 20/40\n",
      "20363/20363 [==============================] - 26s 1ms/step - loss: 0.7860 - accuracy: 0.6790 - val_loss: 0.7444 - val_accuracy: 0.7022\n",
      "Epoch 21/40\n",
      "20363/20363 [==============================] - 25s 1ms/step - loss: 0.7631 - accuracy: 0.6869 - val_loss: 0.7871 - val_accuracy: 0.6734\n",
      "Epoch 22/40\n",
      "20363/20363 [==============================] - 25s 1ms/step - loss: 0.7620 - accuracy: 0.6862 - val_loss: 0.7809 - val_accuracy: 0.6779\n",
      "Epoch 23/40\n",
      "20363/20363 [==============================] - 25s 1ms/step - loss: 0.7409 - accuracy: 0.6973 - val_loss: 0.7543 - val_accuracy: 0.6889\n",
      "Epoch 24/40\n",
      "20363/20363 [==============================] - 25s 1ms/step - loss: 0.7263 - accuracy: 0.7030 - val_loss: 0.7894 - val_accuracy: 0.6818\n",
      "Epoch 25/40\n",
      "20363/20363 [==============================] - 25s 1ms/step - loss: 0.7261 - accuracy: 0.7042 - val_loss: 0.7864 - val_accuracy: 0.6924\n",
      "Epoch 26/40\n",
      "20363/20363 [==============================] - 25s 1ms/step - loss: 0.7076 - accuracy: 0.7114 - val_loss: 0.7465 - val_accuracy: 0.6942\n",
      "Epoch 27/40\n",
      "20363/20363 [==============================] - 26s 1ms/step - loss: 0.7041 - accuracy: 0.7163 - val_loss: 0.7597 - val_accuracy: 0.6911\n",
      "Epoch 28/40\n",
      "20363/20363 [==============================] - 25s 1ms/step - loss: 0.6996 - accuracy: 0.7137 - val_loss: 0.7529 - val_accuracy: 0.6938\n",
      "Epoch 29/40\n",
      "20363/20363 [==============================] - 25s 1ms/step - loss: 0.6757 - accuracy: 0.7277 - val_loss: 0.7414 - val_accuracy: 0.7044\n",
      "Epoch 30/40\n",
      "20363/20363 [==============================] - 25s 1ms/step - loss: 0.6655 - accuracy: 0.7296 - val_loss: 0.7535 - val_accuracy: 0.7000\n",
      "Epoch 31/40\n",
      "20363/20363 [==============================] - 25s 1ms/step - loss: 0.6611 - accuracy: 0.7317 - val_loss: 0.7736 - val_accuracy: 0.6960\n",
      "Epoch 32/40\n",
      "20363/20363 [==============================] - 25s 1ms/step - loss: 0.6400 - accuracy: 0.7419 - val_loss: 0.7346 - val_accuracy: 0.7017\n",
      "Epoch 33/40\n",
      "20363/20363 [==============================] - 25s 1ms/step - loss: 0.6451 - accuracy: 0.7383 - val_loss: 0.7392 - val_accuracy: 0.7013\n",
      "Epoch 34/40\n",
      "20363/20363 [==============================] - 25s 1ms/step - loss: 0.6347 - accuracy: 0.7459 - val_loss: 0.7471 - val_accuracy: 0.6986\n",
      "Epoch 35/40\n",
      "20363/20363 [==============================] - 25s 1ms/step - loss: 0.6225 - accuracy: 0.7505 - val_loss: 0.7387 - val_accuracy: 0.7163\n",
      "Epoch 36/40\n",
      "20363/20363 [==============================] - 25s 1ms/step - loss: 0.6092 - accuracy: 0.7595 - val_loss: 0.7331 - val_accuracy: 0.7061\n",
      "Epoch 37/40\n",
      "20363/20363 [==============================] - 26s 1ms/step - loss: 0.6026 - accuracy: 0.7589 - val_loss: 0.7529 - val_accuracy: 0.7013\n",
      "Epoch 38/40\n",
      "20363/20363 [==============================] - 25s 1ms/step - loss: 0.5890 - accuracy: 0.7684 - val_loss: 0.7535 - val_accuracy: 0.7057\n",
      "Epoch 39/40\n",
      "20363/20363 [==============================] - 25s 1ms/step - loss: 0.5912 - accuracy: 0.7702 - val_loss: 0.7475 - val_accuracy: 0.7044\n",
      "Epoch 40/40\n",
      "20363/20363 [==============================] - 25s 1ms/step - loss: 0.5794 - accuracy: 0.7710 - val_loss: 0.7388 - val_accuracy: 0.7119\n"
     ]
    },
    {
     "data": {
      "text/plain": [
       "<keras.callbacks.callbacks.History at 0x7f18a0148518>"
      ]
     },
     "execution_count": 12,
     "metadata": {
      "tags": []
     },
     "output_type": "execute_result"
    }
   ],
   "source": [
    "model_2.compile(loss=categorical_crossentropy,\n",
    "              optimizer=Adam(lr=0.001, beta_1=0.9, beta_2=0.999, epsilon=1e-7),\n",
    "              metrics=['accuracy'])\n",
    "\n",
    "#training the model\n",
    "model_2.fit(np.array(X_train), np.array(y_train),\n",
    "          batch_size=128,\n",
    "          epochs=40,\n",
    "          verbose=1,\n",
    "          validation_data=(np.array(X_valid), np.array(y_valid)),\n",
    "          shuffle=True)"
   ]
  },
  {
   "cell_type": "markdown",
   "metadata": {
    "colab_type": "text",
    "id": "-iqJSgolB6Fg"
   },
   "source": [
    "檢查模型準確率"
   ]
  },
  {
   "cell_type": "code",
   "execution_count": 13,
   "metadata": {
    "colab": {
     "base_uri": "https://localhost:8080/",
     "height": 68
    },
    "colab_type": "code",
    "id": "A8dLC_GdzYLD",
    "outputId": "48a17858-73e6-4df7-aad7-f6f6811f0089"
   },
   "outputs": [
    {
     "name": "stdout",
     "output_type": "stream",
     "text": [
      "2514/2514 [==============================] - 2s 622us/step\n",
      "Test loss: 0.7544834307478645\n",
      "Test accuracy: 0.7132060527801514\n"
     ]
    }
   ],
   "source": [
    "score = model_2.evaluate(X_test, y_test)\n",
    "print('Test loss:', score[0])\n",
    "print('Test accuracy:', score[1])"
   ]
  },
  {
   "cell_type": "markdown",
   "metadata": {
    "colab_type": "text",
    "id": "FkCQhXL0KUnT"
   },
   "source": [
    "檢測結果大概有七成多準確率，接下來欲以模糊矩陣觀察實際狀況"
   ]
  },
  {
   "cell_type": "code",
   "execution_count": 0,
   "metadata": {
    "colab": {},
    "colab_type": "code",
    "id": "-vB3F_t9Cxp7"
   },
   "outputs": [],
   "source": [
    "prediction=model_2.predict_classes(X_test)"
   ]
  },
  {
   "cell_type": "code",
   "execution_count": 15,
   "metadata": {
    "colab": {
     "base_uri": "https://localhost:8080/",
     "height": 34
    },
    "colab_type": "code",
    "id": "KDQQaNelDG1m",
    "outputId": "7e0131d8-104a-42ec-ff58-9e5ea1bc40d8"
   },
   "outputs": [
    {
     "data": {
      "text/plain": [
       "(2514,)"
      ]
     },
     "execution_count": 15,
     "metadata": {
      "tags": []
     },
     "output_type": "execute_result"
    }
   ],
   "source": [
    "prediction.shape"
   ]
  },
  {
   "cell_type": "code",
   "execution_count": 0,
   "metadata": {
    "colab": {},
    "colab_type": "code",
    "id": "sUwJYhUeSCUR"
   },
   "outputs": [],
   "source": [
    "Y_test = []\n",
    "for i in range(0,len(y_test),1):\n",
    "    for j in range(len(y_test[i])):\n",
    "        if y_test[i][j] == 1 :\n",
    "            Y_test.append(j)"
   ]
  },
  {
   "cell_type": "code",
   "execution_count": 0,
   "metadata": {
    "colab": {},
    "colab_type": "code",
    "id": "Da4HB9IrSGE0"
   },
   "outputs": [],
   "source": [
    "Y_test = np.asarray(Y_test)"
   ]
  },
  {
   "cell_type": "code",
   "execution_count": 18,
   "metadata": {
    "colab": {
     "base_uri": "https://localhost:8080/",
     "height": 204
    },
    "colab_type": "code",
    "id": "7blUHQ4WSHsw",
    "outputId": "76728bcf-dde9-4d79-fcef-1db7cf863ae2"
   },
   "outputs": [
    {
     "data": {
      "text/html": [
       "<div>\n",
       "<style scoped>\n",
       "    .dataframe tbody tr th:only-of-type {\n",
       "        vertical-align: middle;\n",
       "    }\n",
       "\n",
       "    .dataframe tbody tr th {\n",
       "        vertical-align: top;\n",
       "    }\n",
       "\n",
       "    .dataframe thead th {\n",
       "        text-align: right;\n",
       "    }\n",
       "</style>\n",
       "<table border=\"1\" class=\"dataframe\">\n",
       "  <thead>\n",
       "    <tr style=\"text-align: right;\">\n",
       "      <th>預測值</th>\n",
       "      <th>0</th>\n",
       "      <th>1</th>\n",
       "      <th>2</th>\n",
       "      <th>3</th>\n",
       "    </tr>\n",
       "    <tr>\n",
       "      <th>實際值</th>\n",
       "      <th></th>\n",
       "      <th></th>\n",
       "      <th></th>\n",
       "      <th></th>\n",
       "    </tr>\n",
       "  </thead>\n",
       "  <tbody>\n",
       "    <tr>\n",
       "      <th>0</th>\n",
       "      <td>336</td>\n",
       "      <td>31</td>\n",
       "      <td>41</td>\n",
       "      <td>116</td>\n",
       "    </tr>\n",
       "    <tr>\n",
       "      <th>1</th>\n",
       "      <td>92</td>\n",
       "      <td>208</td>\n",
       "      <td>41</td>\n",
       "      <td>180</td>\n",
       "    </tr>\n",
       "    <tr>\n",
       "      <th>2</th>\n",
       "      <td>25</td>\n",
       "      <td>11</td>\n",
       "      <td>810</td>\n",
       "      <td>24</td>\n",
       "    </tr>\n",
       "    <tr>\n",
       "      <th>3</th>\n",
       "      <td>73</td>\n",
       "      <td>33</td>\n",
       "      <td>54</td>\n",
       "      <td>439</td>\n",
       "    </tr>\n",
       "  </tbody>\n",
       "</table>\n",
       "</div>"
      ],
      "text/plain": [
       "預測值    0    1    2    3\n",
       "實際值                    \n",
       "0    336   31   41  116\n",
       "1     92  208   41  180\n",
       "2     25   11  810   24\n",
       "3     73   33   54  439"
      ]
     },
     "execution_count": 18,
     "metadata": {
      "tags": []
     },
     "output_type": "execute_result"
    }
   ],
   "source": [
    "pd.crosstab(Y_test, prediction, rownames=['實際值'], colnames=['預測值'])"
   ]
  },
  {
   "cell_type": "markdown",
   "metadata": {
    "colab_type": "text",
    "id": "GZxYYgEQSkrM"
   },
   "source": [
    "在模糊矩陣中可以觀察到「開心」情緒判別率最高，符合普遍預期。誤判錯的主要是「生氣、害怕」誤判成「難過」，那害怕與難過情緒普遍上也會連接在一起，那以現在模型準確率程度來說可以達到我們設定之標準。"
   ]
  },
  {
   "cell_type": "code",
   "execution_count": 19,
   "metadata": {
    "colab": {
     "base_uri": "https://localhost:8080/",
     "height": 34
    },
    "colab_type": "code",
    "id": "c6g5IUK9zrq4",
    "outputId": "f5582ad2-7432-4681-88b3-9379f1e8da58"
   },
   "outputs": [
    {
     "name": "stdout",
     "output_type": "stream",
     "text": [
      "Saved model to disk\n"
     ]
    }
   ],
   "source": [
    "fer_project_json = model_2.to_json()\n",
    "with open(\"fer.json\", \"w\") as json_file:\n",
    "    json_file.write(fer_project_json)\n",
    "model_2.save_weights(\"fer_project.h5\")\n",
    "print(\"Saved model to disk\")"
   ]
  },
  {
   "cell_type": "code",
   "execution_count": 0,
   "metadata": {
    "colab": {},
    "colab_type": "code",
    "id": "UB3lyA6Bz2gD"
   },
   "outputs": [],
   "source": []
  }
 ],
 "metadata": {
  "accelerator": "GPU",
  "colab": {
   "name": "專案0.53_cnn.ipynb",
   "provenance": [],
   "toc_visible": true
  },
  "kernelspec": {
   "display_name": "Python 3",
   "language": "python",
   "name": "python3"
  },
  "language_info": {
   "codemirror_mode": {
    "name": "ipython",
    "version": 3
   },
   "file_extension": ".py",
   "mimetype": "text/x-python",
   "name": "python",
   "nbconvert_exporter": "python",
   "pygments_lexer": "ipython3",
   "version": "3.6.8"
  }
 },
 "nbformat": 4,
 "nbformat_minor": 1
}
